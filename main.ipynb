{
 "cells": [
  {
   "cell_type": "code",
   "execution_count": 15,
   "metadata": {},
   "outputs": [
    {
     "ename": "AttributeError",
     "evalue": "Can't get attribute 'ItemBasedRecommender' on <module 'utils' from 'c:\\\\Users\\\\Felipe\\\\Anaconda3\\\\envs\\\\recomendation\\\\Lib\\\\site-packages\\\\utils\\\\__init__.py'>",
     "output_type": "error",
     "traceback": [
      "\u001b[1;31m---------------------------------------------------------------------------\u001b[0m",
      "\u001b[1;31mAttributeError\u001b[0m                            Traceback (most recent call last)",
      "Cell \u001b[1;32mIn[15], line 13\u001b[0m\n\u001b[0;32m     11\u001b[0m sys\u001b[38;5;241m.\u001b[39mpath\u001b[38;5;241m.\u001b[39mappend(\u001b[38;5;124m'\u001b[39m\u001b[38;5;124msrc\u001b[39m\u001b[38;5;124m'\u001b[39m)\n\u001b[0;32m     12\u001b[0m \u001b[38;5;28;01mwith\u001b[39;00m \u001b[38;5;28mopen\u001b[39m(\u001b[38;5;124m'\u001b[39m\u001b[38;5;124m../models/recommender.pkl\u001b[39m\u001b[38;5;124m'\u001b[39m, \u001b[38;5;124m'\u001b[39m\u001b[38;5;124mrb\u001b[39m\u001b[38;5;124m'\u001b[39m) \u001b[38;5;28;01mas\u001b[39;00m file:\n\u001b[1;32m---> 13\u001b[0m     recommender \u001b[38;5;241m=\u001b[39m \u001b[43mpickle\u001b[49m\u001b[38;5;241;43m.\u001b[39;49m\u001b[43mload\u001b[49m\u001b[43m(\u001b[49m\u001b[43mfile\u001b[49m\u001b[43m)\u001b[49m\n\u001b[0;32m     15\u001b[0m \u001b[38;5;66;03m# Cria página inicial\u001b[39;00m\n\u001b[0;32m     16\u001b[0m \u001b[38;5;129m@app\u001b[39m\u001b[38;5;241m.\u001b[39mget(\u001b[38;5;124m'\u001b[39m\u001b[38;5;124m/\u001b[39m\u001b[38;5;124m'\u001b[39m)\n\u001b[0;32m     17\u001b[0m \u001b[38;5;28;01mdef\u001b[39;00m\u001b[38;5;250m \u001b[39m\u001b[38;5;21mhome\u001b[39m():\n",
      "\u001b[1;31mAttributeError\u001b[0m: Can't get attribute 'ItemBasedRecommender' on <module 'utils' from 'c:\\\\Users\\\\Felipe\\\\Anaconda3\\\\envs\\\\recomendation\\\\Lib\\\\site-packages\\\\utils\\\\__init__.py'>"
     ]
    }
   ],
   "source": [
    "import sys\n",
    "import pickle\n",
    "import uvicorn\n",
    "import pandas as pd\n",
    "from fastapi import FastAPI\n",
    "\n",
    "# Inicia API\n",
    "app = FastAPI()\n",
    "\n",
    "# Carrega modelo\n",
    "sys.path.append('src')\n",
    "with open('../models/recommender.pkl', 'rb') as file:\n",
    "    recommender = pickle.load(file)\n",
    "\n",
    "# Cria página inicial\n",
    "@app.get('/')\n",
    "def home():\n",
    "    return 'Welcome to the Steam Game Recommender app!'\n",
    "\n",
    "# Lista jogos\n",
    "@app.get('/list_games')\n",
    "def list_games():\n",
    "    return recommender.scores_.index.tolist()\n",
    "\n",
    "# Procura jogos por substring\n",
    "@app.get('/search_games')\n",
    "def search_games(pattern):\n",
    "    pattern = pattern.lower()\n",
    "    games = pd.Series(recommender.scores_.index.tolist())\n",
    "    games_matched = games[games.str.lower().str.contains(pattern)]\n",
    "    return games_matched\n",
    "\n",
    "# Recomenda jogo\n",
    "@app.get('/recommend')\n",
    "def recommend(game: str, max_recommendations: int = 10):\n",
    "    return recommender.recommend(game, max_recommendations)\n",
    "\n",
    "# Executa API\n",
    "if __name__ == '__main__':\n",
    "    uvicorn.run(app)\n",
    "\n",
    "import pickle\n",
    "import uvicorn\n",
    "import pandas as pd\n",
    "from fastapi import FastAPI"
   ]
  }
 ],
 "metadata": {
  "kernelspec": {
   "display_name": "recomendation",
   "language": "python",
   "name": "python3"
  },
  "language_info": {
   "codemirror_mode": {
    "name": "ipython",
    "version": 3
   },
   "file_extension": ".py",
   "mimetype": "text/x-python",
   "name": "python",
   "nbconvert_exporter": "python",
   "pygments_lexer": "ipython3",
   "version": "3.11.11"
  }
 },
 "nbformat": 4,
 "nbformat_minor": 2
}
